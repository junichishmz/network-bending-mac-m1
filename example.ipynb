{
 "cells": [
  {
   "cell_type": "markdown",
   "metadata": {},
   "source": [
    "### Based on colab code by [dvschultz](https://github.com/dvschultz/ml-art-colabs/blob/master/Advanced_StyleGAN_Network_bending.ipynb)\n",
    "### Original code  by [terrence](https://github.com/terrybroad/network-bending)"
   ]
  },
  {
   "cell_type": "code",
   "execution_count": 1,
   "metadata": {},
   "outputs": [],
   "source": [
    "def show_local_mp4_video(file_name, width=640, height=640):\n",
    "  import io\n",
    "  import base64\n",
    "  from IPython.display import HTML\n",
    "  video_encoded = base64.b64encode(io.open(file_name, 'rb').read())\n",
    "  return HTML(data='''\" height=\"{1}\" alt=\"test\" controls>\n",
    "                        {2}\" type=\"video/mp4\" />\n",
    "                      '''.format(width, height, video_encoded.decode('ascii')))"
   ]
  },
  {
   "cell_type": "markdown",
   "metadata": {},
   "source": [
    "Build custom torchscript operators\n",
    "We have built a number of torchscript operators using OpenCV and libtorch, you will have to have downloaded libtorch and installed the correct version of OpenCV for this to work. See requirements above or refer to the tutorial for writing your own torchscript operators for me details."
   ]
  },
  {
   "cell_type": "code",
   "execution_count": 7,
   "metadata": {},
   "outputs": [],
   "source": [
    "# !wget https://download.pytorch.org/libtorch/cu101/libtorch-shared-with-deps-1.5.0%2Bcu101.zip"
   ]
  },
  {
   "cell_type": "code",
   "execution_count": 6,
   "metadata": {},
   "outputs": [],
   "source": [
    "# #build custom pytorch transformations\n",
    "# !chmod +x ./build_custom_transforms.sh\n",
    "# !./build_custom_transforms.sh /path/to/libtorch"
   ]
  },
  {
   "cell_type": "markdown",
   "metadata": {},
   "source": [
    "## Download .pt file\n",
    "\n",
    "As mentioned above, this library uses the Rosinality version of StyleGAN2. If you have a .pkl file, you’ll need to convert it to a .pt file. I have a notebook to do that [here](https://colab.research.google.com/github/dvschultz/stylegan2-ada-pytorch/blob/main/SG2_ADA_PT_to_Rosinality.ipynb)."
   ]
  },
  {
   "cell_type": "code",
   "execution_count": 2,
   "metadata": {},
   "outputs": [],
   "source": [
    "# !gdown --id 1rL-J63eFfn80IYU2GfVY977GI2qOG6dw -O ladiesblack.pt"
   ]
  },
  {
   "cell_type": "code",
   "execution_count": 2,
   "metadata": {},
   "outputs": [
    {
     "name": "stdout",
     "output_type": "stream",
     "text": [
      "usage: generate.py [-h] [--size SIZE] [--sample SAMPLE] [--pics PICS]\n",
      "                   [--truncation TRUNCATION]\n",
      "                   [--truncation_mean TRUNCATION_MEAN] [--ckpt CKPT]\n",
      "                   [--channel_multiplier CHANNEL_MULTIPLIER] [--config CONFIG]\n",
      "                   [--load_latent LOAD_LATENT] [--clusters CLUSTERS]\n",
      "\n",
      "options:\n",
      "  -h, --help            show this help message and exit\n",
      "  --size SIZE\n",
      "  --sample SAMPLE\n",
      "  --pics PICS\n",
      "  --truncation TRUNCATION\n",
      "  --truncation_mean TRUNCATION_MEAN\n",
      "  --ckpt CKPT\n",
      "  --channel_multiplier CHANNEL_MULTIPLIER\n",
      "  --config CONFIG\n",
      "  --load_latent LOAD_LATENT\n",
      "  --clusters CLUSTERS\n"
     ]
    }
   ],
   "source": [
    "!python generate.py --help"
   ]
  },
  {
   "cell_type": "markdown",
   "metadata": {},
   "source": [
    "### test command"
   ]
  },
  {
   "cell_type": "code",
   "execution_count": 4,
   "metadata": {},
   "outputs": [],
   "source": [
    "# !python generate.py --ckpt ladiesblack.pt --pics 20 --config configs/empty_transform_config.yaml"
   ]
  },
  {
   "cell_type": "code",
   "execution_count": null,
   "metadata": {},
   "outputs": [],
   "source": []
  }
 ],
 "metadata": {
  "kernelspec": {
   "display_name": "Python 3.10.6 ('networkbending')",
   "language": "python",
   "name": "python3"
  },
  "language_info": {
   "codemirror_mode": {
    "name": "ipython",
    "version": 3
   },
   "file_extension": ".py",
   "mimetype": "text/x-python",
   "name": "python",
   "nbconvert_exporter": "python",
   "pygments_lexer": "ipython3",
   "version": "3.10.6"
  },
  "orig_nbformat": 4,
  "vscode": {
   "interpreter": {
    "hash": "608a64cbc9d23c1aa1a4510d89b9fe8d8365c88a490c039e7585eef48a4dda6e"
   }
  }
 },
 "nbformat": 4,
 "nbformat_minor": 2
}
